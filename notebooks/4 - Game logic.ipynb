{
 "cells": [
  {
   "cell_type": "code",
   "execution_count": 1,
   "id": "0e2abd9b-99cc-4f08-b9fc-2c3a95a84e32",
   "metadata": {
    "execution": {
     "iopub.execute_input": "2023-11-27T22:34:43.213592Z",
     "iopub.status.busy": "2023-11-27T22:34:43.212823Z",
     "iopub.status.idle": "2023-11-27T22:34:51.128931Z",
     "shell.execute_reply": "2023-11-27T22:34:51.128006Z",
     "shell.execute_reply.started": "2023-11-27T22:34:43.213592Z"
    }
   },
   "outputs": [
    {
     "data": {
      "text/plain": [
       "<All keys matched successfully>"
      ]
     },
     "execution_count": 1,
     "metadata": {},
     "output_type": "execute_result"
    }
   ],
   "source": [
    "from torch import nn\n",
    "import torch\n",
    "\n",
    "class EvalConvMetaModel(nn.Module):\n",
    "\n",
    "    def __init__(self):\n",
    "        super(EvalConvMetaModel, self).__init__()\n",
    "\n",
    "        self.conv = nn.Sequential(\n",
    "            nn.Conv2d(12, 64, 3),\n",
    "            nn.BatchNorm2d(64),\n",
    "            nn.ReLU(),\n",
    "            nn.Conv2d(64, 128, 3),\n",
    "            nn.BatchNorm2d(128),\n",
    "            nn.ReLU(),\n",
    "            nn.Conv2d(128, 256, 3),\n",
    "            nn.BatchNorm2d(256),\n",
    "            nn.ReLU(),\n",
    "            nn.Flatten(),\n",
    "        )\n",
    "\n",
    "        self.linear = nn.Sequential(\n",
    "            nn.Linear(1024+5, 256),\n",
    "            nn.BatchNorm1d(256),\n",
    "            nn.ReLU(),\n",
    "            nn.Linear(256, 64),\n",
    "            nn.BatchNorm1d(64),\n",
    "            nn.ReLU(),\n",
    "            nn.Linear(64, 1)\n",
    "        )\n",
    "\n",
    "    def forward(self, x, meta):\n",
    "        x = self.conv(x)\n",
    "        #print(x.shape, meta.shape)\n",
    "        x = torch.cat((x, meta), 1)\n",
    "        x = self.linear(x)\n",
    "        return x\n",
    "\n",
    "model = EvalConvMetaModel()\n",
    "ckpt = torch.load(\"ConvMeta-2.1.pt\")\n",
    "model.load_state_dict(ckpt)"
   ]
  },
  {
   "cell_type": "code",
   "execution_count": 15,
   "id": "9edc2821-5be7-410e-be65-26c14eb5a6aa",
   "metadata": {
    "execution": {
     "iopub.execute_input": "2023-11-27T22:56:02.335953Z",
     "iopub.status.busy": "2023-11-27T22:56:02.334457Z",
     "iopub.status.idle": "2023-11-27T22:56:02.416993Z",
     "shell.execute_reply": "2023-11-27T22:56:02.412533Z",
     "shell.execute_reply.started": "2023-11-27T22:56:02.335953Z"
    }
   },
   "outputs": [],
   "source": [
    "import numpy as np\n",
    "\n",
    "def make_matrix(fen):\n",
    "    res = [] \n",
    "    rows = fen.split('/')\n",
    "    for row in rows:\n",
    "        row_list = []\n",
    "        pieces = row.split(\" \", 1)[0]\n",
    "        for thing in pieces:\n",
    "            if thing.isdigit():\n",
    "                row_list += '.' * int(thing)\n",
    "            else:\n",
    "                row_list += thing\n",
    "        res.append(row_list)\n",
    "    return res\n",
    "\n",
    "def extract_metadata(fen):\n",
    "    res = [] \n",
    "    data = fen.split(' ')\n",
    "    \n",
    "    if data[1][0] == 'w': res.append(1)\n",
    "    else: res.append(0)\n",
    "\n",
    "    if \"K\" in data[2]: res.append(1)\n",
    "    else: res.append(0)\n",
    "\n",
    "    if \"Q\" in data[2]: res.append(1)\n",
    "    else: res.append(0)\n",
    "\n",
    "    if \"k\" in data[2]: res.append(1)\n",
    "    else: res.append(0)\n",
    "\n",
    "    if \"q\" in data[2]: res.append(1)\n",
    "    else: res.append(0)\n",
    "        \n",
    "    return res\n",
    "\n",
    "def vectorize(fen):\n",
    "    \n",
    "    table = {\n",
    "        '.': [0, 0, 0, 0, 0, 0, 0, 0, 0, 0, 0, 0],\n",
    "        \n",
    "        'P': [1, 0, 0, 0, 0, 0, 0, 0, 0, 0, 0, 0],\n",
    "        'B': [0, 1, 0, 0, 0, 0, 0, 0, 0, 0, 0, 0],\n",
    "        'N': [0, 0, 1, 0, 0, 0, 0, 0, 0, 0, 0, 0],\n",
    "        'R': [0, 0, 0, 1, 0, 0, 0, 0, 0, 0, 0, 0],\n",
    "        'Q': [0, 0, 0, 0, 1, 0, 0, 0, 0, 0, 0, 0],\n",
    "        'K': [0, 0, 0, 0, 0, 1, 0, 0, 0, 0, 0, 0],\n",
    "    \n",
    "        'p': [0, 0, 0, 0, 0, 0, 1, 0, 0, 0, 0, 0],\n",
    "        'b': [0, 0, 0, 0, 0, 0, 0, 1, 0, 0, 0, 0],\n",
    "        'n': [0, 0, 0, 0, 0, 0, 0, 0, 1, 0, 0, 0],\n",
    "        'r': [0, 0, 0, 0, 0, 0, 0, 0, 0, 1, 0, 0],\n",
    "        'q': [0, 0, 0, 0, 0, 0, 0, 0, 0, 0, 1, 0],\n",
    "        'k': [0, 0, 0, 0, 0, 0, 0, 0, 0, 0, 0, 1],\n",
    "    }\n",
    "    \n",
    "    res = []\n",
    "    for i in make_matrix(fen):\n",
    "        res.append(list(map(table.get, i)))\n",
    "    return np.array(res)\n",
    "\n",
    "def evaluate(fen, model):\n",
    "\n",
    "    data = vectorize(fen)\n",
    "    data = torch.tensor(data, dtype=torch.float).permute(2, 0, 1).cpu()\n",
    "    data = data[None, :]\n",
    "\n",
    "    meta = extract_metadata(fen)\n",
    "    meta = torch.tensor(meta, dtype=torch.float).cpu()\n",
    "    meta = meta[None, :]\n",
    "\n",
    "    model = model.cpu()\n",
    "\n",
    "    with torch.no_grad():\n",
    "        model.eval()\n",
    "        res = model(data, meta).item()\n",
    "    return res"
   ]
  },
  {
   "cell_type": "code",
   "execution_count": 62,
   "id": "a6ef2666-44cf-4e6d-bda1-d4364356ae4b",
   "metadata": {
    "execution": {
     "iopub.execute_input": "2023-11-27T23:53:29.762185Z",
     "iopub.status.busy": "2023-11-27T23:53:29.759958Z",
     "iopub.status.idle": "2023-11-27T23:53:29.791925Z",
     "shell.execute_reply": "2023-11-27T23:53:29.789121Z",
     "shell.execute_reply.started": "2023-11-27T23:53:29.761434Z"
    }
   },
   "outputs": [],
   "source": [
    "import chess\n",
    "\n",
    "def white_to_move(fen):\n",
    "    return fen.split(' ')[1][0] == 'w'\n",
    "\n",
    "def make_move(fen, model, debug=False):\n",
    "    \n",
    "    best_move = None\n",
    "    best_score = None\n",
    "\n",
    "    board = chess.Board(fen)\n",
    "    is_white = white_to_move(fen)\n",
    "    \n",
    "    for move in board.legal_moves:\n",
    "        board.push(move)\n",
    "        score = evaluate(board.fen(), model)\n",
    "        board.pop()\n",
    "\n",
    "        if debug:\n",
    "            print(f'{str(move)} - {score}')\n",
    "        \n",
    "        if best_score is None:\n",
    "            best_score = score\n",
    "            best_move = move\n",
    "            continue\n",
    "        \n",
    "        if is_white and score > best_score:\n",
    "            best_score = score\n",
    "            best_move = move\n",
    "            continue\n",
    "\n",
    "        if not is_white and score < best_score:\n",
    "            best_score = score\n",
    "            best_move = move\n",
    "            continue\n",
    "\n",
    "    return best_move\n",
    "        "
   ]
  },
  {
   "cell_type": "code",
   "execution_count": null,
   "id": "d886ada8-a97d-4961-8e97-3226cf50bd4a",
   "metadata": {},
   "outputs": [],
   "source": [
    "# make computer play against itself\n",
    "fen = \"rnbqkbnr/pppppppp/8/8/8/8/PPPPPPPP/RNBQKBNR w KQkq - 0 1 \"\n",
    "\n",
    "while True:\n",
    "    board = chess.Board(fen)\n",
    "    display(board, clear=True)\n",
    "    board.push(make_move(fen, model, debug=False))\n",
    "    fen = board.fen()\n",
    "    time.sleep(1)"
   ]
  },
  {
   "cell_type": "code",
   "execution_count": null,
   "id": "85521cdd-c3fa-439a-94fd-87010959daf8",
   "metadata": {},
   "outputs": [],
   "source": [
    "import time\n",
    "\n",
    "# or play against the computer\n",
    "fen = \"rnbqkbnr/pppppppp/8/8/8/8/PPPPPPPP/RNBQKBNR w KQkq - 0 1 \"\n",
    "\n",
    "board = chess.Board(fen)\n",
    "while True:\n",
    "    \n",
    "    display(board, clear=True)\n",
    "    move = input()\n",
    "    board.push_san(move)\n",
    "    fen = board.fen()\n",
    "    \n",
    "    display(board, clear=True)\n",
    "    move = make_move(fen, model)\n",
    "    board.push(move)\n"
   ]
  },
  {
   "cell_type": "code",
   "execution_count": 64,
   "id": "75870cad-642e-4f2e-bacd-860c27455771",
   "metadata": {
    "execution": {
     "iopub.execute_input": "2023-11-28T00:37:08.720640Z",
     "iopub.status.busy": "2023-11-28T00:37:08.718389Z",
     "iopub.status.idle": "2023-11-28T00:37:08.741643Z",
     "shell.execute_reply": "2023-11-28T00:37:08.737142Z",
     "shell.execute_reply.started": "2023-11-28T00:37:08.720640Z"
    }
   },
   "outputs": [
    {
     "data": {
      "text/plain": [
       "'1.26.1'"
      ]
     },
     "execution_count": 64,
     "metadata": {},
     "output_type": "execute_result"
    }
   ],
   "source": [
    "np.__version__"
   ]
  }
 ],
 "metadata": {
  "kernelspec": {
   "display_name": "Python 3 (ipykernel)",
   "language": "python",
   "name": "python3"
  },
  "language_info": {
   "codemirror_mode": {
    "name": "ipython",
    "version": 3
   },
   "file_extension": ".py",
   "mimetype": "text/x-python",
   "name": "python",
   "nbconvert_exporter": "python",
   "pygments_lexer": "ipython3",
   "version": "3.11.0"
  }
 },
 "nbformat": 4,
 "nbformat_minor": 5
}
