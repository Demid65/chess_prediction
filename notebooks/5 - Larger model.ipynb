{
 "cells": [
  {
   "cell_type": "code",
   "execution_count": 35,
   "id": "0e2abd9b-99cc-4f08-b9fc-2c3a95a84e32",
   "metadata": {
    "execution": {
     "iopub.execute_input": "2023-11-28T12:15:31.595171Z",
     "iopub.status.busy": "2023-11-28T12:15:31.593673Z",
     "iopub.status.idle": "2023-11-28T12:15:35.712762Z",
     "shell.execute_reply": "2023-11-28T12:15:35.711276Z",
     "shell.execute_reply.started": "2023-11-28T12:15:31.595171Z"
    }
   },
   "outputs": [
    {
     "data": {
      "text/html": [
       "<div>\n",
       "<style scoped>\n",
       "    .dataframe tbody tr th:only-of-type {\n",
       "        vertical-align: middle;\n",
       "    }\n",
       "\n",
       "    .dataframe tbody tr th {\n",
       "        vertical-align: top;\n",
       "    }\n",
       "\n",
       "    .dataframe thead th {\n",
       "        text-align: right;\n",
       "    }\n",
       "</style>\n",
       "<table border=\"1\" class=\"dataframe\">\n",
       "  <thead>\n",
       "    <tr style=\"text-align: right;\">\n",
       "      <th></th>\n",
       "      <th>id</th>\n",
       "      <th>fen</th>\n",
       "      <th>binary</th>\n",
       "      <th>eval</th>\n",
       "    </tr>\n",
       "  </thead>\n",
       "  <tbody>\n",
       "    <tr>\n",
       "      <th>0</th>\n",
       "      <td>1</td>\n",
       "      <td>rnbqkbnr/pppppppp/8/8/3P4/8/PPP1PPPP/RNBQKBNR ...</td>\n",
       "      <td>b'\\x08\\x00\\x00\\x00\\x00\\x00\\x00\\x00\\x10\\x00\\x00...</td>\n",
       "      <td>0.00</td>\n",
       "    </tr>\n",
       "    <tr>\n",
       "      <th>1</th>\n",
       "      <td>2</td>\n",
       "      <td>rnbqkbnr/ppp1pppp/8/3p4/3P4/8/PPP1PPPP/RNBQKBN...</td>\n",
       "      <td>b'\\x08\\x00\\x00\\x00\\x00\\x00\\x00\\x00\\x10\\x00\\x00...</td>\n",
       "      <td>0.27</td>\n",
       "    </tr>\n",
       "    <tr>\n",
       "      <th>2</th>\n",
       "      <td>3</td>\n",
       "      <td>rnbqkbnr/ppp1pppp/8/3p4/2PP4/8/PP2PPPP/RNBQKBN...</td>\n",
       "      <td>b'\\x08\\x00\\x00\\x00\\x00\\x00\\x00\\x00\\x10\\x00\\x00...</td>\n",
       "      <td>0.00</td>\n",
       "    </tr>\n",
       "    <tr>\n",
       "      <th>3</th>\n",
       "      <td>4</td>\n",
       "      <td>rnbqkbnr/ppp2ppp/4p3/3p4/2PP4/8/PP2PPPP/RNBQKB...</td>\n",
       "      <td>b'\\x08\\x00\\x00\\x00\\x00\\x00\\x00\\x00\\x10\\x00\\x00...</td>\n",
       "      <td>0.09</td>\n",
       "    </tr>\n",
       "    <tr>\n",
       "      <th>4</th>\n",
       "      <td>5</td>\n",
       "      <td>rnbqkbnr/ppp2ppp/4p3/3P4/3P4/8/PP2PPPP/RNBQKBN...</td>\n",
       "      <td>b'\\x08\\x00\\x00\\x00\\x00\\x00\\x00\\x00\\x10\\x00\\x00...</td>\n",
       "      <td>0.10</td>\n",
       "    </tr>\n",
       "    <tr>\n",
       "      <th>5</th>\n",
       "      <td>6</td>\n",
       "      <td>rnbqkbnr/ppp2ppp/8/3p4/3P4/8/PP2PPPP/RNBQKBNR ...</td>\n",
       "      <td>b'\\x08\\x00\\x00\\x00\\x00\\x00\\x00\\x00\\x10\\x00\\x00...</td>\n",
       "      <td>0.00</td>\n",
       "    </tr>\n",
       "    <tr>\n",
       "      <th>6</th>\n",
       "      <td>7</td>\n",
       "      <td>rnbqkbnr/ppp2ppp/8/3p4/3P4/2N5/PP2PPPP/R1BQKBN...</td>\n",
       "      <td>b'\\x08\\x00\\x00\\x00\\x00\\x00\\x00\\x00\\x10\\x00\\x00...</td>\n",
       "      <td>0.09</td>\n",
       "    </tr>\n",
       "    <tr>\n",
       "      <th>7</th>\n",
       "      <td>8</td>\n",
       "      <td>rnbqkb1r/ppp2ppp/5n2/3p4/3P4/2N5/PP2PPPP/R1BQK...</td>\n",
       "      <td>b'\\x08\\x00\\x00\\x00\\x00\\x00\\x00\\x00\\x10\\x00\\x00...</td>\n",
       "      <td>0.13</td>\n",
       "    </tr>\n",
       "    <tr>\n",
       "      <th>8</th>\n",
       "      <td>9</td>\n",
       "      <td>rnbqkb1r/ppp2ppp/5n2/3p4/3P4/2N1P3/PP3PPP/R1BQ...</td>\n",
       "      <td>b'\\x08\\x00\\x00\\x00\\x00\\x00\\x00\\x00\\x10\\x00\\x00...</td>\n",
       "      <td>-0.22</td>\n",
       "    </tr>\n",
       "    <tr>\n",
       "      <th>9</th>\n",
       "      <td>10</td>\n",
       "      <td>rnbqk2r/ppp2ppp/3b1n2/3p4/3P4/2N1P3/PP3PPP/R1B...</td>\n",
       "      <td>b'\\x08\\x00\\x00\\x00\\x00\\x00\\x00\\x00\\x10\\x00\\x00...</td>\n",
       "      <td>-0.26</td>\n",
       "    </tr>\n",
       "  </tbody>\n",
       "</table>\n",
       "</div>"
      ],
      "text/plain": [
       "   id                                                fen  \\\n",
       "0   1  rnbqkbnr/pppppppp/8/8/3P4/8/PPP1PPPP/RNBQKBNR ...   \n",
       "1   2  rnbqkbnr/ppp1pppp/8/3p4/3P4/8/PPP1PPPP/RNBQKBN...   \n",
       "2   3  rnbqkbnr/ppp1pppp/8/3p4/2PP4/8/PP2PPPP/RNBQKBN...   \n",
       "3   4  rnbqkbnr/ppp2ppp/4p3/3p4/2PP4/8/PP2PPPP/RNBQKB...   \n",
       "4   5  rnbqkbnr/ppp2ppp/4p3/3P4/3P4/8/PP2PPPP/RNBQKBN...   \n",
       "5   6  rnbqkbnr/ppp2ppp/8/3p4/3P4/8/PP2PPPP/RNBQKBNR ...   \n",
       "6   7  rnbqkbnr/ppp2ppp/8/3p4/3P4/2N5/PP2PPPP/R1BQKBN...   \n",
       "7   8  rnbqkb1r/ppp2ppp/5n2/3p4/3P4/2N5/PP2PPPP/R1BQK...   \n",
       "8   9  rnbqkb1r/ppp2ppp/5n2/3p4/3P4/2N1P3/PP3PPP/R1BQ...   \n",
       "9  10  rnbqk2r/ppp2ppp/3b1n2/3p4/3P4/2N1P3/PP3PPP/R1B...   \n",
       "\n",
       "                                              binary  eval  \n",
       "0  b'\\x08\\x00\\x00\\x00\\x00\\x00\\x00\\x00\\x10\\x00\\x00...  0.00  \n",
       "1  b'\\x08\\x00\\x00\\x00\\x00\\x00\\x00\\x00\\x10\\x00\\x00...  0.27  \n",
       "2  b'\\x08\\x00\\x00\\x00\\x00\\x00\\x00\\x00\\x10\\x00\\x00...  0.00  \n",
       "3  b'\\x08\\x00\\x00\\x00\\x00\\x00\\x00\\x00\\x10\\x00\\x00...  0.09  \n",
       "4  b'\\x08\\x00\\x00\\x00\\x00\\x00\\x00\\x00\\x10\\x00\\x00...  0.10  \n",
       "5  b'\\x08\\x00\\x00\\x00\\x00\\x00\\x00\\x00\\x10\\x00\\x00...  0.00  \n",
       "6  b'\\x08\\x00\\x00\\x00\\x00\\x00\\x00\\x00\\x10\\x00\\x00...  0.09  \n",
       "7  b'\\x08\\x00\\x00\\x00\\x00\\x00\\x00\\x00\\x10\\x00\\x00...  0.13  \n",
       "8  b'\\x08\\x00\\x00\\x00\\x00\\x00\\x00\\x00\\x10\\x00\\x00... -0.22  \n",
       "9  b'\\x08\\x00\\x00\\x00\\x00\\x00\\x00\\x00\\x10\\x00\\x00... -0.26  "
      ]
     },
     "execution_count": 35,
     "metadata": {},
     "output_type": "execute_result"
    }
   ],
   "source": [
    "import sqlite3\n",
    "import pandas as pd\n",
    "\n",
    "ROWS_TO_READ = 850000\n",
    "\n",
    "sql = sqlite3.connect('test.db')\n",
    "df = pd.read_sql_query(f'SELECT * FROM evaluations LIMIT {ROWS_TO_READ}', sql)\n",
    "\n",
    "df.head(10)"
   ]
  },
  {
   "cell_type": "code",
   "execution_count": 36,
   "id": "4d398660-07d2-45dc-8097-9f70b5d16858",
   "metadata": {
    "execution": {
     "iopub.execute_input": "2023-11-28T12:15:42.607422Z",
     "iopub.status.busy": "2023-11-28T12:15:42.606673Z",
     "iopub.status.idle": "2023-11-28T12:15:42.637694Z",
     "shell.execute_reply": "2023-11-28T12:15:42.636212Z",
     "shell.execute_reply.started": "2023-11-28T12:15:42.607422Z"
    }
   },
   "outputs": [
    {
     "name": "stdout",
     "output_type": "stream",
     "text": [
      "(8, 8, 12)\n"
     ]
    }
   ],
   "source": [
    "import numpy as np\n",
    "\n",
    "def make_matrix(fen):\n",
    "    res = [] \n",
    "    rows = fen.split('/')\n",
    "    for row in rows:\n",
    "        row_list = []\n",
    "        pieces = row.split(\" \", 1)[0]\n",
    "        for thing in pieces:\n",
    "            if thing.isdigit():\n",
    "                row_list += '.' * int(thing)\n",
    "            else:\n",
    "                row_list += thing\n",
    "        res.append(row_list)\n",
    "    return res\n",
    "\n",
    "def extract_metadata(fen):\n",
    "    res = [] \n",
    "    data = fen.split(' ')\n",
    "    \n",
    "    if data[1][0] == 'w': res.append(1)\n",
    "    else: res.append(0)\n",
    "\n",
    "    if \"K\" in data[2]: res.append(1)\n",
    "    else: res.append(0)\n",
    "\n",
    "    if \"Q\" in data[2]: res.append(1)\n",
    "    else: res.append(0)\n",
    "\n",
    "    if \"k\" in data[2]: res.append(1)\n",
    "    else: res.append(0)\n",
    "\n",
    "    if \"q\" in data[2]: res.append(1)\n",
    "    else: res.append(0)\n",
    "        \n",
    "    return res\n",
    "\n",
    "table = {\n",
    "    '.': [0, 0, 0, 0, 0, 0, 0, 0, 0, 0, 0, 0],\n",
    "    \n",
    "    'P': [1, 0, 0, 0, 0, 0, 0, 0, 0, 0, 0, 0],\n",
    "    'B': [0, 1, 0, 0, 0, 0, 0, 0, 0, 0, 0, 0],\n",
    "    'N': [0, 0, 1, 0, 0, 0, 0, 0, 0, 0, 0, 0],\n",
    "    'R': [0, 0, 0, 1, 0, 0, 0, 0, 0, 0, 0, 0],\n",
    "    'Q': [0, 0, 0, 0, 1, 0, 0, 0, 0, 0, 0, 0],\n",
    "    'K': [0, 0, 0, 0, 0, 1, 0, 0, 0, 0, 0, 0],\n",
    "\n",
    "    'p': [0, 0, 0, 0, 0, 0, 1, 0, 0, 0, 0, 0],\n",
    "    'b': [0, 0, 0, 0, 0, 0, 0, 1, 0, 0, 0, 0],\n",
    "    'n': [0, 0, 0, 0, 0, 0, 0, 0, 1, 0, 0, 0],\n",
    "    'r': [0, 0, 0, 0, 0, 0, 0, 0, 0, 1, 0, 0],\n",
    "    'q': [0, 0, 0, 0, 0, 0, 0, 0, 0, 0, 1, 0],\n",
    "    'k': [0, 0, 0, 0, 0, 0, 0, 0, 0, 0, 0, 1],\n",
    "}\n",
    "\n",
    "def vectorize(fen, table):\n",
    "    res = []\n",
    "    for i in make_matrix(fen):\n",
    "        res.append(list(map(table.get, i)))\n",
    "    return np.array(res)\n",
    "\n",
    "print(vectorize(df['fen'][0], table).shape) # should be 8 by 8 by 12"
   ]
  },
  {
   "cell_type": "code",
   "execution_count": 37,
   "id": "14c0bd93-5be6-4195-93bf-30e92380d35c",
   "metadata": {
    "execution": {
     "iopub.execute_input": "2023-11-28T12:15:47.110073Z",
     "iopub.status.busy": "2023-11-28T12:15:47.109339Z",
     "iopub.status.idle": "2023-11-28T12:21:05.754071Z",
     "shell.execute_reply": "2023-11-28T12:21:05.751326Z",
     "shell.execute_reply.started": "2023-11-28T12:15:47.110073Z"
    }
   },
   "outputs": [
    {
     "data": {
      "application/vnd.jupyter.widget-view+json": {
       "model_id": "94c2380cd60346809d263f1f1ad1de93",
       "version_major": 2,
       "version_minor": 0
      },
      "text/plain": [
       "  0%|          | 0/850000 [00:00<?, ?it/s]"
      ]
     },
     "metadata": {},
     "output_type": "display_data"
    }
   ],
   "source": [
    "from tqdm.notebook import tqdm\n",
    "\n",
    "vecs = []\n",
    "meta = []\n",
    "eval = []\n",
    "for index, row in tqdm(df.iterrows(), total=df.shape[0]):\n",
    "    vecs.append(vectorize(row['fen'], table))\n",
    "    meta.append(extract_metadata(row['fen']))\n",
    "    eval.append(row['eval'])"
   ]
  },
  {
   "cell_type": "code",
   "execution_count": 38,
   "id": "02aacd66-899d-4fcc-8c3b-1340a659cc16",
   "metadata": {
    "execution": {
     "iopub.execute_input": "2023-11-28T12:21:23.798228Z",
     "iopub.status.busy": "2023-11-28T12:21:23.796727Z",
     "iopub.status.idle": "2023-11-28T12:21:51.054758Z",
     "shell.execute_reply": "2023-11-28T12:21:51.050268Z",
     "shell.execute_reply.started": "2023-11-28T12:21:23.797477Z"
    }
   },
   "outputs": [],
   "source": [
    "from torch.utils.data import TensorDataset, DataLoader\n",
    "from torch.utils.data import random_split\n",
    "import torch\n",
    "\n",
    "X = torch.tensor(np.array(vecs), dtype=torch.float).permute(0, 3, 1, 2)\n",
    "m = torch.tensor(np.array(meta), dtype=torch.float)\n",
    "y = torch.tensor(np.array(eval), dtype=torch.float)\n",
    "\n",
    "processed_dataset = TensorDataset(X, m, y)\n",
    "\n",
    "# set proportion and split dataset into train and validation parts\n",
    "proportion = 0.2\n",
    "train_dataset, val_dataset = random_split(processed_dataset, [1-proportion, proportion])"
   ]
  },
  {
   "cell_type": "code",
   "execution_count": 39,
   "id": "8549d710-a8f9-43a9-9967-10a52f2a0db5",
   "metadata": {
    "execution": {
     "iopub.execute_input": "2023-11-28T12:21:54.570011Z",
     "iopub.status.busy": "2023-11-28T12:21:54.569260Z",
     "iopub.status.idle": "2023-11-28T12:21:54.586289Z",
     "shell.execute_reply": "2023-11-28T12:21:54.584057Z",
     "shell.execute_reply.started": "2023-11-28T12:21:54.570011Z"
    }
   },
   "outputs": [],
   "source": [
    "batch_size = 512\n",
    "train_loader = DataLoader(train_dataset, batch_size=batch_size, shuffle=True)\n",
    "val_loader = DataLoader(val_dataset, batch_size=batch_size)"
   ]
  },
  {
   "cell_type": "code",
   "execution_count": 40,
   "id": "f55f2957-cfd4-4a6c-ba8e-9a855d7e3f07",
   "metadata": {
    "execution": {
     "iopub.execute_input": "2023-11-28T12:21:56.107016Z",
     "iopub.status.busy": "2023-11-28T12:21:56.106266Z",
     "iopub.status.idle": "2023-11-28T12:21:56.150508Z",
     "shell.execute_reply": "2023-11-28T12:21:56.148284Z",
     "shell.execute_reply.started": "2023-11-28T12:21:56.107016Z"
    }
   },
   "outputs": [],
   "source": [
    "def train(\n",
    "    model,\n",
    "    optimizer,\n",
    "    scheduler,\n",
    "    loss_fn,\n",
    "    train_loader,\n",
    "    val_loader,\n",
    "    epochs=1,\n",
    "    device=\"cpu\",\n",
    "    ckpt_path=\"best.pt\",\n",
    "):\n",
    "    # best score for checkpointing\n",
    "    best = 0\n",
    "    \n",
    "    # iterating over epochs\n",
    "    for epoch in range(epochs):\n",
    "        # training loop description\n",
    "        train_loop = tqdm(\n",
    "            enumerate(train_loader, 0), total=len(train_loader), desc=f\"Epoch {epoch}\"\n",
    "        )\n",
    "        model.to(device)\n",
    "        model.train()\n",
    "        train_loss = 0.0\n",
    "        # iterate over dataset \n",
    "        for i, data in train_loop:\n",
    "            inputs, meta, labels = data\n",
    "            inputs, meta, labels = inputs.to(device), meta.to(device), labels.to(device)\n",
    "\n",
    "            # zero the parameter gradients\n",
    "            optimizer.zero_grad()\n",
    "\n",
    "            # forward pass and loss calculation\n",
    "            outputs = model(inputs, meta)\n",
    "            \n",
    "            labels = torch.squeeze(labels)\n",
    "            outputs = torch.squeeze(outputs)\n",
    "            \n",
    "            loss = loss_fn(outputs, labels)\n",
    "\n",
    "            # backward pass\n",
    "            loss.backward()\n",
    "\n",
    "            # optimizer run\n",
    "            optimizer.step()\n",
    "\n",
    "            train_loss += loss.item()\n",
    "            train_loop.set_postfix({\"loss\": train_loss/(i+1)})\n",
    "        \n",
    "        # validation\n",
    "        errors = None\n",
    "        \n",
    "        with torch.no_grad():\n",
    "            eval_loss = 0.0\n",
    "            model.eval()  # evaluation mode\n",
    "            val_loop = tqdm(enumerate(val_loader, 0), total=len(val_loader), desc=\"Val\")\n",
    "            for i, data in val_loop:\n",
    "                inputs, meta, labels = data\n",
    "                inputs, meta, labels = inputs.to(device), meta.to(device), labels.to(device)\n",
    "\n",
    "                outputs = model(inputs, meta)\n",
    "                labels = torch.squeeze(labels)\n",
    "                outputs = torch.squeeze(outputs)\n",
    "                \n",
    "                loss = loss_fn(outputs, labels)\n",
    "\n",
    "                eval_loss += loss.item()\n",
    "                \n",
    "\n",
    "            score = (i+1) / eval_loss\n",
    "            print(f'eval_loss: {eval_loss / (i+1)}')\n",
    "\n",
    "            if score > best:\n",
    "                torch.save(model.state_dict(), ckpt_path)\n",
    "                best = score\n",
    "                \n",
    "            scheduler.step(eval_loss / (i+1))\n"
   ]
  },
  {
   "cell_type": "code",
   "execution_count": 41,
   "id": "4250e55f-3bcc-4104-b170-af3f1655cc3e",
   "metadata": {
    "execution": {
     "iopub.execute_input": "2023-11-28T12:22:40.189232Z",
     "iopub.status.busy": "2023-11-28T12:22:40.188490Z",
     "iopub.status.idle": "2023-11-28T12:22:40.207035Z",
     "shell.execute_reply": "2023-11-28T12:22:40.204806Z",
     "shell.execute_reply.started": "2023-11-28T12:22:40.189232Z"
    }
   },
   "outputs": [],
   "source": [
    "from torch import nn\n",
    "\n",
    "class EvalConvMetaModel(nn.Module):\n",
    "\n",
    "    def __init__(self):\n",
    "        super(EvalConvMetaModel, self).__init__()\n",
    "\n",
    "        self.conv = nn.Sequential(\n",
    "            nn.Conv2d(12, 128, 5, padding=1),\n",
    "            nn.BatchNorm2d(128),\n",
    "            nn.ReLU(),\n",
    "            nn.Conv2d(128, 256, 3),\n",
    "            nn.BatchNorm2d(256),\n",
    "            nn.ReLU(),\n",
    "            nn.Conv2d(256, 512, 3),\n",
    "            nn.BatchNorm2d(512),\n",
    "            nn.ReLU(),\n",
    "            nn.Flatten(),\n",
    "        )\n",
    "\n",
    "        self.linear = nn.Sequential(\n",
    "            nn.Linear(2048+5, 512),\n",
    "            nn.BatchNorm1d(512),\n",
    "            nn.ReLU(),\n",
    "            nn.Linear(512, 256),\n",
    "            nn.BatchNorm1d(256),\n",
    "            nn.ReLU(),\n",
    "            nn.Linear(256, 128),\n",
    "            nn.BatchNorm1d(128),\n",
    "            nn.ReLU(),\n",
    "            nn.Linear(128, 64),\n",
    "            nn.BatchNorm1d(64),\n",
    "            nn.ReLU(),\n",
    "            nn.Linear(64, 1)\n",
    "        )\n",
    "\n",
    "    def forward(self, x, meta):\n",
    "        x = self.conv(x)\n",
    "        #print(x.shape, meta.shape)\n",
    "        x = torch.cat((x, meta), 1)\n",
    "        x = self.linear(x)\n",
    "        return x\n"
   ]
  },
  {
   "cell_type": "code",
   "execution_count": 42,
   "id": "64212aa4-6a19-4b04-8bdb-9b8529bca1e7",
   "metadata": {
    "execution": {
     "iopub.execute_input": "2023-11-28T12:22:46.277868Z",
     "iopub.status.busy": "2023-11-28T12:22:46.276369Z",
     "iopub.status.idle": "2023-11-28T12:22:46.368171Z",
     "shell.execute_reply": "2023-11-28T12:22:46.366677Z",
     "shell.execute_reply.started": "2023-11-28T12:22:46.277868Z"
    }
   },
   "outputs": [],
   "source": [
    "import torch.optim as optim\n",
    "\n",
    "model = EvalConvMetaModel()\n",
    "loss_fn = nn.L1Loss()\n",
    "device = 'cuda' if torch.cuda.is_available else 'cpu'"
   ]
  },
  {
   "cell_type": "code",
   "execution_count": 69,
   "id": "fa2dcda2-3cde-4fa6-a2c9-5c4a0f1a54ec",
   "metadata": {
    "execution": {
     "iopub.execute_input": "2023-11-28T14:15:01.441201Z",
     "iopub.status.busy": "2023-11-28T14:15:01.440452Z",
     "iopub.status.idle": "2023-11-28T16:13:23.421777Z",
     "shell.execute_reply": "2023-11-28T16:13:23.416527Z",
     "shell.execute_reply.started": "2023-11-28T14:15:01.441201Z"
    }
   },
   "outputs": [
    {
     "data": {
      "application/vnd.jupyter.widget-view+json": {
       "model_id": "8da9173dcd9d4becb080cd74c7645e80",
       "version_major": 2,
       "version_minor": 0
      },
      "text/plain": [
       "Epoch 0:   0%|          | 0/1329 [00:00<?, ?it/s]"
      ]
     },
     "metadata": {},
     "output_type": "display_data"
    },
    {
     "data": {
      "application/vnd.jupyter.widget-view+json": {
       "model_id": "5018dffe161a458ca3b30b9f71bec64d",
       "version_major": 2,
       "version_minor": 0
      },
      "text/plain": [
       "Val:   0%|          | 0/333 [00:00<?, ?it/s]"
      ]
     },
     "metadata": {},
     "output_type": "display_data"
    },
    {
     "name": "stdout",
     "output_type": "stream",
     "text": [
      "eval_loss: 2.39594300158389\n"
     ]
    },
    {
     "data": {
      "application/vnd.jupyter.widget-view+json": {
       "model_id": "fa14f8df32c642c9b43a8ee518f88f0c",
       "version_major": 2,
       "version_minor": 0
      },
      "text/plain": [
       "Epoch 1:   0%|          | 0/1329 [00:00<?, ?it/s]"
      ]
     },
     "metadata": {},
     "output_type": "display_data"
    },
    {
     "data": {
      "application/vnd.jupyter.widget-view+json": {
       "model_id": "90582f9aecfd4ab09c8ba9baf7d8d721",
       "version_major": 2,
       "version_minor": 0
      },
      "text/plain": [
       "Val:   0%|          | 0/333 [00:00<?, ?it/s]"
      ]
     },
     "metadata": {},
     "output_type": "display_data"
    },
    {
     "name": "stdout",
     "output_type": "stream",
     "text": [
      "eval_loss: 2.4439395179261676\n"
     ]
    },
    {
     "data": {
      "application/vnd.jupyter.widget-view+json": {
       "model_id": "025c7ea1c58745fe9ff2bbf3878dadc7",
       "version_major": 2,
       "version_minor": 0
      },
      "text/plain": [
       "Epoch 2:   0%|          | 0/1329 [00:00<?, ?it/s]"
      ]
     },
     "metadata": {},
     "output_type": "display_data"
    },
    {
     "data": {
      "application/vnd.jupyter.widget-view+json": {
       "model_id": "18f6a6da37164b26bc1ab87fe086e05d",
       "version_major": 2,
       "version_minor": 0
      },
      "text/plain": [
       "Val:   0%|          | 0/333 [00:00<?, ?it/s]"
      ]
     },
     "metadata": {},
     "output_type": "display_data"
    },
    {
     "name": "stdout",
     "output_type": "stream",
     "text": [
      "eval_loss: 2.424370135630931\n"
     ]
    },
    {
     "data": {
      "application/vnd.jupyter.widget-view+json": {
       "model_id": "8c15d2f3400f43f498e5538e8715a59a",
       "version_major": 2,
       "version_minor": 0
      },
      "text/plain": [
       "Epoch 3:   0%|          | 0/1329 [00:00<?, ?it/s]"
      ]
     },
     "metadata": {},
     "output_type": "display_data"
    },
    {
     "data": {
      "application/vnd.jupyter.widget-view+json": {
       "model_id": "247bf16b5a5c4be599cdc3b9be3b5cf4",
       "version_major": 2,
       "version_minor": 0
      },
      "text/plain": [
       "Val:   0%|          | 0/333 [00:00<?, ?it/s]"
      ]
     },
     "metadata": {},
     "output_type": "display_data"
    },
    {
     "name": "stdout",
     "output_type": "stream",
     "text": [
      "eval_loss: 2.40392016755926\n"
     ]
    },
    {
     "data": {
      "application/vnd.jupyter.widget-view+json": {
       "model_id": "9ce36528220945309fe840672b0ef434",
       "version_major": 2,
       "version_minor": 0
      },
      "text/plain": [
       "Epoch 4:   0%|          | 0/1329 [00:00<?, ?it/s]"
      ]
     },
     "metadata": {},
     "output_type": "display_data"
    },
    {
     "data": {
      "application/vnd.jupyter.widget-view+json": {
       "model_id": "4d0e7147a0f6498e9928d7ddf507879d",
       "version_major": 2,
       "version_minor": 0
      },
      "text/plain": [
       "Val:   0%|          | 0/333 [00:00<?, ?it/s]"
      ]
     },
     "metadata": {},
     "output_type": "display_data"
    },
    {
     "name": "stdout",
     "output_type": "stream",
     "text": [
      "eval_loss: 2.371052711933583\n"
     ]
    },
    {
     "data": {
      "application/vnd.jupyter.widget-view+json": {
       "model_id": "a34afdf843d448be80326bf6028e26d5",
       "version_major": 2,
       "version_minor": 0
      },
      "text/plain": [
       "Epoch 5:   0%|          | 0/1329 [00:00<?, ?it/s]"
      ]
     },
     "metadata": {},
     "output_type": "display_data"
    },
    {
     "data": {
      "application/vnd.jupyter.widget-view+json": {
       "model_id": "c2c347817856439c9979fc1fe0b255f3",
       "version_major": 2,
       "version_minor": 0
      },
      "text/plain": [
       "Val:   0%|          | 0/333 [00:00<?, ?it/s]"
      ]
     },
     "metadata": {},
     "output_type": "display_data"
    },
    {
     "name": "stdout",
     "output_type": "stream",
     "text": [
      "eval_loss: 2.3685893221302434\n"
     ]
    },
    {
     "data": {
      "application/vnd.jupyter.widget-view+json": {
       "model_id": "39b1c7593d3a410e8c0cc8a8a56a9f57",
       "version_major": 2,
       "version_minor": 0
      },
      "text/plain": [
       "Epoch 6:   0%|          | 0/1329 [00:00<?, ?it/s]"
      ]
     },
     "metadata": {},
     "output_type": "display_data"
    },
    {
     "data": {
      "application/vnd.jupyter.widget-view+json": {
       "model_id": "dc5317b458424f8b8c53a054c84cc0ba",
       "version_major": 2,
       "version_minor": 0
      },
      "text/plain": [
       "Val:   0%|          | 0/333 [00:00<?, ?it/s]"
      ]
     },
     "metadata": {},
     "output_type": "display_data"
    },
    {
     "name": "stdout",
     "output_type": "stream",
     "text": [
      "eval_loss: 2.4749368762110806\n"
     ]
    },
    {
     "data": {
      "application/vnd.jupyter.widget-view+json": {
       "model_id": "fa48fa621f734f00b1978896912a1da5",
       "version_major": 2,
       "version_minor": 0
      },
      "text/plain": [
       "Epoch 7:   0%|          | 0/1329 [00:00<?, ?it/s]"
      ]
     },
     "metadata": {},
     "output_type": "display_data"
    },
    {
     "data": {
      "application/vnd.jupyter.widget-view+json": {
       "model_id": "f464a14a0c7a4cc6b53228ae7a26f549",
       "version_major": 2,
       "version_minor": 0
      },
      "text/plain": [
       "Val:   0%|          | 0/333 [00:00<?, ?it/s]"
      ]
     },
     "metadata": {},
     "output_type": "display_data"
    },
    {
     "name": "stdout",
     "output_type": "stream",
     "text": [
      "eval_loss: 2.405768390890356\n"
     ]
    },
    {
     "data": {
      "application/vnd.jupyter.widget-view+json": {
       "model_id": "c6462d5d5d634deeb4cfa1fa0d656175",
       "version_major": 2,
       "version_minor": 0
      },
      "text/plain": [
       "Epoch 8:   0%|          | 0/1329 [00:00<?, ?it/s]"
      ]
     },
     "metadata": {},
     "output_type": "display_data"
    },
    {
     "data": {
      "application/vnd.jupyter.widget-view+json": {
       "model_id": "b79413b370e14e3a8e0714ebbf8d72e4",
       "version_major": 2,
       "version_minor": 0
      },
      "text/plain": [
       "Val:   0%|          | 0/333 [00:00<?, ?it/s]"
      ]
     },
     "metadata": {},
     "output_type": "display_data"
    },
    {
     "name": "stdout",
     "output_type": "stream",
     "text": [
      "eval_loss: 2.456753427559907\n"
     ]
    },
    {
     "data": {
      "application/vnd.jupyter.widget-view+json": {
       "model_id": "c45e44afbc7a4bd181b184fa361bee88",
       "version_major": 2,
       "version_minor": 0
      },
      "text/plain": [
       "Epoch 9:   0%|          | 0/1329 [00:00<?, ?it/s]"
      ]
     },
     "metadata": {},
     "output_type": "display_data"
    },
    {
     "data": {
      "application/vnd.jupyter.widget-view+json": {
       "model_id": "93fc827016a14b4fb72ab41cd566fd72",
       "version_major": 2,
       "version_minor": 0
      },
      "text/plain": [
       "Val:   0%|          | 0/333 [00:00<?, ?it/s]"
      ]
     },
     "metadata": {},
     "output_type": "display_data"
    },
    {
     "name": "stdout",
     "output_type": "stream",
     "text": [
      "eval_loss: 2.4257902454685523\n"
     ]
    },
    {
     "data": {
      "application/vnd.jupyter.widget-view+json": {
       "model_id": "badd5e69178d4905a89af6299d2064ac",
       "version_major": 2,
       "version_minor": 0
      },
      "text/plain": [
       "Epoch 10:   0%|          | 0/1329 [00:00<?, ?it/s]"
      ]
     },
     "metadata": {},
     "output_type": "display_data"
    },
    {
     "data": {
      "application/vnd.jupyter.widget-view+json": {
       "model_id": "c7dadd73bacb4ab497bee35a0468883f",
       "version_major": 2,
       "version_minor": 0
      },
      "text/plain": [
       "Val:   0%|          | 0/333 [00:00<?, ?it/s]"
      ]
     },
     "metadata": {},
     "output_type": "display_data"
    },
    {
     "name": "stdout",
     "output_type": "stream",
     "text": [
      "eval_loss: 2.2490791812673345\n"
     ]
    },
    {
     "data": {
      "application/vnd.jupyter.widget-view+json": {
       "model_id": "546a5d1c1b4d443c9a9b3cac58d93436",
       "version_major": 2,
       "version_minor": 0
      },
      "text/plain": [
       "Epoch 11:   0%|          | 0/1329 [00:00<?, ?it/s]"
      ]
     },
     "metadata": {},
     "output_type": "display_data"
    },
    {
     "data": {
      "application/vnd.jupyter.widget-view+json": {
       "model_id": "bd4bef2c1fda4472baec3b3e6b0239d2",
       "version_major": 2,
       "version_minor": 0
      },
      "text/plain": [
       "Val:   0%|          | 0/333 [00:00<?, ?it/s]"
      ]
     },
     "metadata": {},
     "output_type": "display_data"
    },
    {
     "name": "stdout",
     "output_type": "stream",
     "text": [
      "eval_loss: 2.262035276438739\n"
     ]
    },
    {
     "data": {
      "application/vnd.jupyter.widget-view+json": {
       "model_id": "13ebaec24f0c4faab049ee5fa04a51e8",
       "version_major": 2,
       "version_minor": 0
      },
      "text/plain": [
       "Epoch 12:   0%|          | 0/1329 [00:00<?, ?it/s]"
      ]
     },
     "metadata": {},
     "output_type": "display_data"
    },
    {
     "data": {
      "application/vnd.jupyter.widget-view+json": {
       "model_id": "c41a62d86081489cb73227971c240624",
       "version_major": 2,
       "version_minor": 0
      },
      "text/plain": [
       "Val:   0%|          | 0/333 [00:00<?, ?it/s]"
      ]
     },
     "metadata": {},
     "output_type": "display_data"
    },
    {
     "name": "stdout",
     "output_type": "stream",
     "text": [
      "eval_loss: 2.24818504107249\n"
     ]
    },
    {
     "data": {
      "application/vnd.jupyter.widget-view+json": {
       "model_id": "03e2083b3fcc480d83ac20422dd34488",
       "version_major": 2,
       "version_minor": 0
      },
      "text/plain": [
       "Epoch 13:   0%|          | 0/1329 [00:00<?, ?it/s]"
      ]
     },
     "metadata": {},
     "output_type": "display_data"
    },
    {
     "data": {
      "application/vnd.jupyter.widget-view+json": {
       "model_id": "377cd6484eda48a68a6bcbce55619f77",
       "version_major": 2,
       "version_minor": 0
      },
      "text/plain": [
       "Val:   0%|          | 0/333 [00:00<?, ?it/s]"
      ]
     },
     "metadata": {},
     "output_type": "display_data"
    },
    {
     "name": "stdout",
     "output_type": "stream",
     "text": [
      "eval_loss: 2.2501185087112336\n"
     ]
    },
    {
     "data": {
      "application/vnd.jupyter.widget-view+json": {
       "model_id": "4fbdc2192caf4922bae8ab976d85db9c",
       "version_major": 2,
       "version_minor": 0
      },
      "text/plain": [
       "Epoch 14:   0%|          | 0/1329 [00:00<?, ?it/s]"
      ]
     },
     "metadata": {},
     "output_type": "display_data"
    },
    {
     "data": {
      "application/vnd.jupyter.widget-view+json": {
       "model_id": "0f124df16ce8465184b7c727626ebddf",
       "version_major": 2,
       "version_minor": 0
      },
      "text/plain": [
       "Val:   0%|          | 0/333 [00:00<?, ?it/s]"
      ]
     },
     "metadata": {},
     "output_type": "display_data"
    },
    {
     "name": "stdout",
     "output_type": "stream",
     "text": [
      "eval_loss: 2.241701264997144\n"
     ]
    },
    {
     "data": {
      "application/vnd.jupyter.widget-view+json": {
       "model_id": "17826c9c2eeb4d46a0f9975cd5730a4b",
       "version_major": 2,
       "version_minor": 0
      },
      "text/plain": [
       "Epoch 15:   0%|          | 0/1329 [00:00<?, ?it/s]"
      ]
     },
     "metadata": {},
     "output_type": "display_data"
    },
    {
     "data": {
      "application/vnd.jupyter.widget-view+json": {
       "model_id": "aa0e11eb58924b8a9f6097d530797480",
       "version_major": 2,
       "version_minor": 0
      },
      "text/plain": [
       "Val:   0%|          | 0/333 [00:00<?, ?it/s]"
      ]
     },
     "metadata": {},
     "output_type": "display_data"
    },
    {
     "name": "stdout",
     "output_type": "stream",
     "text": [
      "eval_loss: 2.249470864688312\n"
     ]
    },
    {
     "data": {
      "application/vnd.jupyter.widget-view+json": {
       "model_id": "9f43b44d86a64883844ae22863eaf1ae",
       "version_major": 2,
       "version_minor": 0
      },
      "text/plain": [
       "Epoch 16:   0%|          | 0/1329 [00:00<?, ?it/s]"
      ]
     },
     "metadata": {},
     "output_type": "display_data"
    },
    {
     "data": {
      "application/vnd.jupyter.widget-view+json": {
       "model_id": "e09f141a7f214bd7a2af6fad0cd195b6",
       "version_major": 2,
       "version_minor": 0
      },
      "text/plain": [
       "Val:   0%|          | 0/333 [00:00<?, ?it/s]"
      ]
     },
     "metadata": {},
     "output_type": "display_data"
    },
    {
     "name": "stdout",
     "output_type": "stream",
     "text": [
      "eval_loss: 2.254563343775523\n"
     ]
    },
    {
     "data": {
      "application/vnd.jupyter.widget-view+json": {
       "model_id": "287f089baac44049b04afd1a07ca28f9",
       "version_major": 2,
       "version_minor": 0
      },
      "text/plain": [
       "Epoch 17:   0%|          | 0/1329 [00:00<?, ?it/s]"
      ]
     },
     "metadata": {},
     "output_type": "display_data"
    },
    {
     "data": {
      "application/vnd.jupyter.widget-view+json": {
       "model_id": "af0de6f115be4e3b88fee759893dc4f0",
       "version_major": 2,
       "version_minor": 0
      },
      "text/plain": [
       "Val:   0%|          | 0/333 [00:00<?, ?it/s]"
      ]
     },
     "metadata": {},
     "output_type": "display_data"
    },
    {
     "name": "stdout",
     "output_type": "stream",
     "text": [
      "eval_loss: 2.2465683382910653\n"
     ]
    },
    {
     "data": {
      "application/vnd.jupyter.widget-view+json": {
       "model_id": "c1a1af4ff688480bb0db07d1854354e9",
       "version_major": 2,
       "version_minor": 0
      },
      "text/plain": [
       "Epoch 18:   0%|          | 0/1329 [00:00<?, ?it/s]"
      ]
     },
     "metadata": {},
     "output_type": "display_data"
    },
    {
     "data": {
      "application/vnd.jupyter.widget-view+json": {
       "model_id": "06ab020e817941a3a386f2e68bd97d5a",
       "version_major": 2,
       "version_minor": 0
      },
      "text/plain": [
       "Val:   0%|          | 0/333 [00:00<?, ?it/s]"
      ]
     },
     "metadata": {},
     "output_type": "display_data"
    },
    {
     "name": "stdout",
     "output_type": "stream",
     "text": [
      "eval_loss: 2.2391732766463592\n"
     ]
    },
    {
     "data": {
      "application/vnd.jupyter.widget-view+json": {
       "model_id": "0324b8f59bee4904937bdc6f31913c41",
       "version_major": 2,
       "version_minor": 0
      },
      "text/plain": [
       "Epoch 19:   0%|          | 0/1329 [00:00<?, ?it/s]"
      ]
     },
     "metadata": {},
     "output_type": "display_data"
    },
    {
     "data": {
      "application/vnd.jupyter.widget-view+json": {
       "model_id": "a1f3f874776b46a7b236eb28818e5612",
       "version_major": 2,
       "version_minor": 0
      },
      "text/plain": [
       "Val:   0%|          | 0/333 [00:00<?, ?it/s]"
      ]
     },
     "metadata": {},
     "output_type": "display_data"
    },
    {
     "name": "stdout",
     "output_type": "stream",
     "text": [
      "eval_loss: 2.249673304257092\n"
     ]
    },
    {
     "data": {
      "application/vnd.jupyter.widget-view+json": {
       "model_id": "2bd5c1eca0a049e693d3506e64adc053",
       "version_major": 2,
       "version_minor": 0
      },
      "text/plain": [
       "Epoch 20:   0%|          | 0/1329 [00:00<?, ?it/s]"
      ]
     },
     "metadata": {},
     "output_type": "display_data"
    },
    {
     "data": {
      "application/vnd.jupyter.widget-view+json": {
       "model_id": "787b25bb903f4c44b23c1038a2c1622c",
       "version_major": 2,
       "version_minor": 0
      },
      "text/plain": [
       "Val:   0%|          | 0/333 [00:00<?, ?it/s]"
      ]
     },
     "metadata": {},
     "output_type": "display_data"
    },
    {
     "name": "stdout",
     "output_type": "stream",
     "text": [
      "eval_loss: 2.2355154963942976\n"
     ]
    },
    {
     "data": {
      "application/vnd.jupyter.widget-view+json": {
       "model_id": "a10878121a5745b09b0a54f43794bbfb",
       "version_major": 2,
       "version_minor": 0
      },
      "text/plain": [
       "Epoch 21:   0%|          | 0/1329 [00:00<?, ?it/s]"
      ]
     },
     "metadata": {},
     "output_type": "display_data"
    },
    {
     "data": {
      "application/vnd.jupyter.widget-view+json": {
       "model_id": "015cfe8c13714e9e80291e80f64990ca",
       "version_major": 2,
       "version_minor": 0
      },
      "text/plain": [
       "Val:   0%|          | 0/333 [00:00<?, ?it/s]"
      ]
     },
     "metadata": {},
     "output_type": "display_data"
    },
    {
     "name": "stdout",
     "output_type": "stream",
     "text": [
      "eval_loss: 2.2777376500693887\n"
     ]
    },
    {
     "data": {
      "application/vnd.jupyter.widget-view+json": {
       "model_id": "cd60061c802a4465972f136361355f2c",
       "version_major": 2,
       "version_minor": 0
      },
      "text/plain": [
       "Epoch 22:   0%|          | 0/1329 [00:00<?, ?it/s]"
      ]
     },
     "metadata": {},
     "output_type": "display_data"
    },
    {
     "data": {
      "application/vnd.jupyter.widget-view+json": {
       "model_id": "d55fee7068564808bda29b9271e36b31",
       "version_major": 2,
       "version_minor": 0
      },
      "text/plain": [
       "Val:   0%|          | 0/333 [00:00<?, ?it/s]"
      ]
     },
     "metadata": {},
     "output_type": "display_data"
    },
    {
     "name": "stdout",
     "output_type": "stream",
     "text": [
      "eval_loss: 2.2498905257777766\n"
     ]
    },
    {
     "data": {
      "application/vnd.jupyter.widget-view+json": {
       "model_id": "1b37ad9405674ba182ed94af9b3b4092",
       "version_major": 2,
       "version_minor": 0
      },
      "text/plain": [
       "Epoch 23:   0%|          | 0/1329 [00:00<?, ?it/s]"
      ]
     },
     "metadata": {},
     "output_type": "display_data"
    },
    {
     "data": {
      "application/vnd.jupyter.widget-view+json": {
       "model_id": "1384410f968c4fe187aeffb42ae9eff6",
       "version_major": 2,
       "version_minor": 0
      },
      "text/plain": [
       "Val:   0%|          | 0/333 [00:00<?, ?it/s]"
      ]
     },
     "metadata": {},
     "output_type": "display_data"
    },
    {
     "name": "stdout",
     "output_type": "stream",
     "text": [
      "eval_loss: 2.2496414750187963\n"
     ]
    },
    {
     "data": {
      "application/vnd.jupyter.widget-view+json": {
       "model_id": "6edcfe7e8af84b4b868726c2b879323f",
       "version_major": 2,
       "version_minor": 0
      },
      "text/plain": [
       "Epoch 24:   0%|          | 0/1329 [00:00<?, ?it/s]"
      ]
     },
     "metadata": {},
     "output_type": "display_data"
    },
    {
     "data": {
      "application/vnd.jupyter.widget-view+json": {
       "model_id": "89a4feac98b04d2986fa98f079bb3c4d",
       "version_major": 2,
       "version_minor": 0
      },
      "text/plain": [
       "Val:   0%|          | 0/333 [00:00<?, ?it/s]"
      ]
     },
     "metadata": {},
     "output_type": "display_data"
    },
    {
     "name": "stdout",
     "output_type": "stream",
     "text": [
      "eval_loss: 2.243514164432033\n"
     ]
    },
    {
     "data": {
      "application/vnd.jupyter.widget-view+json": {
       "model_id": "7f87ae36c9a949b6a732b4eadcabd014",
       "version_major": 2,
       "version_minor": 0
      },
      "text/plain": [
       "Epoch 25:   0%|          | 0/1329 [00:00<?, ?it/s]"
      ]
     },
     "metadata": {},
     "output_type": "display_data"
    },
    {
     "data": {
      "application/vnd.jupyter.widget-view+json": {
       "model_id": "e454a7c473c14cbd9ccfedb2c417e2a6",
       "version_major": 2,
       "version_minor": 0
      },
      "text/plain": [
       "Val:   0%|          | 0/333 [00:00<?, ?it/s]"
      ]
     },
     "metadata": {},
     "output_type": "display_data"
    },
    {
     "name": "stdout",
     "output_type": "stream",
     "text": [
      "eval_loss: 2.2300917096324153\n"
     ]
    },
    {
     "data": {
      "application/vnd.jupyter.widget-view+json": {
       "model_id": "b77ed120446b49c0bfaa55fbdac6ee94",
       "version_major": 2,
       "version_minor": 0
      },
      "text/plain": [
       "Epoch 26:   0%|          | 0/1329 [00:00<?, ?it/s]"
      ]
     },
     "metadata": {},
     "output_type": "display_data"
    },
    {
     "data": {
      "application/vnd.jupyter.widget-view+json": {
       "model_id": "107810f6b7a34a65bd65c49979025636",
       "version_major": 2,
       "version_minor": 0
      },
      "text/plain": [
       "Val:   0%|          | 0/333 [00:00<?, ?it/s]"
      ]
     },
     "metadata": {},
     "output_type": "display_data"
    },
    {
     "name": "stdout",
     "output_type": "stream",
     "text": [
      "eval_loss: 2.239573993840375\n"
     ]
    },
    {
     "data": {
      "application/vnd.jupyter.widget-view+json": {
       "model_id": "9b8ec963cfea4fce807c967269937ffd",
       "version_major": 2,
       "version_minor": 0
      },
      "text/plain": [
       "Epoch 27:   0%|          | 0/1329 [00:00<?, ?it/s]"
      ]
     },
     "metadata": {},
     "output_type": "display_data"
    },
    {
     "data": {
      "application/vnd.jupyter.widget-view+json": {
       "model_id": "8beaffd63ebe4082b3ec8d98e4bccea1",
       "version_major": 2,
       "version_minor": 0
      },
      "text/plain": [
       "Val:   0%|          | 0/333 [00:00<?, ?it/s]"
      ]
     },
     "metadata": {},
     "output_type": "display_data"
    },
    {
     "name": "stdout",
     "output_type": "stream",
     "text": [
      "eval_loss: 2.2430261280443577\n"
     ]
    },
    {
     "data": {
      "application/vnd.jupyter.widget-view+json": {
       "model_id": "6964623f9d6249f99c57ee1237d7d712",
       "version_major": 2,
       "version_minor": 0
      },
      "text/plain": [
       "Epoch 28:   0%|          | 0/1329 [00:00<?, ?it/s]"
      ]
     },
     "metadata": {},
     "output_type": "display_data"
    },
    {
     "data": {
      "application/vnd.jupyter.widget-view+json": {
       "model_id": "8e5eea6c21cf4c148d3377eef5a2a967",
       "version_major": 2,
       "version_minor": 0
      },
      "text/plain": [
       "Val:   0%|          | 0/333 [00:00<?, ?it/s]"
      ]
     },
     "metadata": {},
     "output_type": "display_data"
    },
    {
     "name": "stdout",
     "output_type": "stream",
     "text": [
      "eval_loss: 2.2330133156017498\n"
     ]
    },
    {
     "data": {
      "application/vnd.jupyter.widget-view+json": {
       "model_id": "82d7ac6d4d69495a856467ee1c4e8db8",
       "version_major": 2,
       "version_minor": 0
      },
      "text/plain": [
       "Epoch 29:   0%|          | 0/1329 [00:00<?, ?it/s]"
      ]
     },
     "metadata": {},
     "output_type": "display_data"
    },
    {
     "data": {
      "application/vnd.jupyter.widget-view+json": {
       "model_id": "a4e97ec0614b4ff6952f006d5037f758",
       "version_major": 2,
       "version_minor": 0
      },
      "text/plain": [
       "Val:   0%|          | 0/333 [00:00<?, ?it/s]"
      ]
     },
     "metadata": {},
     "output_type": "display_data"
    },
    {
     "name": "stdout",
     "output_type": "stream",
     "text": [
      "eval_loss: 2.228627746885603\n"
     ]
    },
    {
     "data": {
      "application/vnd.jupyter.widget-view+json": {
       "model_id": "3837598e1fa04714a82549a970245eb9",
       "version_major": 2,
       "version_minor": 0
      },
      "text/plain": [
       "Epoch 30:   0%|          | 0/1329 [00:00<?, ?it/s]"
      ]
     },
     "metadata": {},
     "output_type": "display_data"
    },
    {
     "data": {
      "application/vnd.jupyter.widget-view+json": {
       "model_id": "732b77ff50c14434afd13bce07d377b3",
       "version_major": 2,
       "version_minor": 0
      },
      "text/plain": [
       "Val:   0%|          | 0/333 [00:00<?, ?it/s]"
      ]
     },
     "metadata": {},
     "output_type": "display_data"
    },
    {
     "name": "stdout",
     "output_type": "stream",
     "text": [
      "eval_loss: 2.239970188599091\n"
     ]
    },
    {
     "data": {
      "application/vnd.jupyter.widget-view+json": {
       "model_id": "5053250dbdc44b9aafdf35624c8b0f30",
       "version_major": 2,
       "version_minor": 0
      },
      "text/plain": [
       "Epoch 31:   0%|          | 0/1329 [00:00<?, ?it/s]"
      ]
     },
     "metadata": {},
     "output_type": "display_data"
    },
    {
     "data": {
      "application/vnd.jupyter.widget-view+json": {
       "model_id": "2325f509935347ca95e26cf1d7868a74",
       "version_major": 2,
       "version_minor": 0
      },
      "text/plain": [
       "Val:   0%|          | 0/333 [00:00<?, ?it/s]"
      ]
     },
     "metadata": {},
     "output_type": "display_data"
    },
    {
     "name": "stdout",
     "output_type": "stream",
     "text": [
      "eval_loss: 2.2303813638629855\n"
     ]
    },
    {
     "data": {
      "application/vnd.jupyter.widget-view+json": {
       "model_id": "d010ee1f3d07499bba25ea3df2212589",
       "version_major": 2,
       "version_minor": 0
      },
      "text/plain": [
       "Epoch 32:   0%|          | 0/1329 [00:00<?, ?it/s]"
      ]
     },
     "metadata": {},
     "output_type": "display_data"
    },
    {
     "data": {
      "application/vnd.jupyter.widget-view+json": {
       "model_id": "f266829cff31434cbf0da2249d48c207",
       "version_major": 2,
       "version_minor": 0
      },
      "text/plain": [
       "Val:   0%|          | 0/333 [00:00<?, ?it/s]"
      ]
     },
     "metadata": {},
     "output_type": "display_data"
    },
    {
     "name": "stdout",
     "output_type": "stream",
     "text": [
      "eval_loss: 2.2332353770911872\n"
     ]
    },
    {
     "data": {
      "application/vnd.jupyter.widget-view+json": {
       "model_id": "e414a1c260cb47498f3df300bd6c1135",
       "version_major": 2,
       "version_minor": 0
      },
      "text/plain": [
       "Epoch 33:   0%|          | 0/1329 [00:00<?, ?it/s]"
      ]
     },
     "metadata": {},
     "output_type": "display_data"
    },
    {
     "data": {
      "application/vnd.jupyter.widget-view+json": {
       "model_id": "7fdd198fdea74c668abcddc74f73f2c1",
       "version_major": 2,
       "version_minor": 0
      },
      "text/plain": [
       "Val:   0%|          | 0/333 [00:00<?, ?it/s]"
      ]
     },
     "metadata": {},
     "output_type": "display_data"
    },
    {
     "name": "stdout",
     "output_type": "stream",
     "text": [
      "eval_loss: 2.2351373083240635\n"
     ]
    },
    {
     "data": {
      "application/vnd.jupyter.widget-view+json": {
       "model_id": "f0976b9398204701b9b88ce054090c42",
       "version_major": 2,
       "version_minor": 0
      },
      "text/plain": [
       "Epoch 34:   0%|          | 0/1329 [00:00<?, ?it/s]"
      ]
     },
     "metadata": {},
     "output_type": "display_data"
    },
    {
     "data": {
      "application/vnd.jupyter.widget-view+json": {
       "model_id": "c2a58fbc6ac24ec6a4b58f149f1bfde8",
       "version_major": 2,
       "version_minor": 0
      },
      "text/plain": [
       "Val:   0%|          | 0/333 [00:00<?, ?it/s]"
      ]
     },
     "metadata": {},
     "output_type": "display_data"
    },
    {
     "name": "stdout",
     "output_type": "stream",
     "text": [
      "eval_loss: 2.2336442398953364\n"
     ]
    },
    {
     "data": {
      "application/vnd.jupyter.widget-view+json": {
       "model_id": "a6e2f7c941ea4f2abe10d7687120e150",
       "version_major": 2,
       "version_minor": 0
      },
      "text/plain": [
       "Epoch 35:   0%|          | 0/1329 [00:00<?, ?it/s]"
      ]
     },
     "metadata": {},
     "output_type": "display_data"
    },
    {
     "data": {
      "application/vnd.jupyter.widget-view+json": {
       "model_id": "1b60996fee5d49e396bcf2ebb169ad5d",
       "version_major": 2,
       "version_minor": 0
      },
      "text/plain": [
       "Val:   0%|          | 0/333 [00:00<?, ?it/s]"
      ]
     },
     "metadata": {},
     "output_type": "display_data"
    },
    {
     "name": "stdout",
     "output_type": "stream",
     "text": [
      "eval_loss: 2.22857277242987\n"
     ]
    },
    {
     "data": {
      "application/vnd.jupyter.widget-view+json": {
       "model_id": "900b086bfe554880b3468742092bb5f7",
       "version_major": 2,
       "version_minor": 0
      },
      "text/plain": [
       "Epoch 36:   0%|          | 0/1329 [00:00<?, ?it/s]"
      ]
     },
     "metadata": {},
     "output_type": "display_data"
    },
    {
     "data": {
      "application/vnd.jupyter.widget-view+json": {
       "model_id": "d2819238dee04b4e88c0d0d24ab3067c",
       "version_major": 2,
       "version_minor": 0
      },
      "text/plain": [
       "Val:   0%|          | 0/333 [00:00<?, ?it/s]"
      ]
     },
     "metadata": {},
     "output_type": "display_data"
    },
    {
     "name": "stdout",
     "output_type": "stream",
     "text": [
      "eval_loss: 2.2395195560054377\n"
     ]
    },
    {
     "data": {
      "application/vnd.jupyter.widget-view+json": {
       "model_id": "a90aac109893415386235653e2150500",
       "version_major": 2,
       "version_minor": 0
      },
      "text/plain": [
       "Epoch 37:   0%|          | 0/1329 [00:00<?, ?it/s]"
      ]
     },
     "metadata": {},
     "output_type": "display_data"
    },
    {
     "data": {
      "application/vnd.jupyter.widget-view+json": {
       "model_id": "6745748916d04e60aca7dd93e2da69cb",
       "version_major": 2,
       "version_minor": 0
      },
      "text/plain": [
       "Val:   0%|          | 0/333 [00:00<?, ?it/s]"
      ]
     },
     "metadata": {},
     "output_type": "display_data"
    },
    {
     "name": "stdout",
     "output_type": "stream",
     "text": [
      "eval_loss: 2.237451232231415\n"
     ]
    },
    {
     "data": {
      "application/vnd.jupyter.widget-view+json": {
       "model_id": "792599b0602c4c5a93e53ea9f08f2bb6",
       "version_major": 2,
       "version_minor": 0
      },
      "text/plain": [
       "Epoch 38:   0%|          | 0/1329 [00:00<?, ?it/s]"
      ]
     },
     "metadata": {},
     "output_type": "display_data"
    },
    {
     "data": {
      "application/vnd.jupyter.widget-view+json": {
       "model_id": "5fcc23628e3e43e8b64ac6af1fffc19d",
       "version_major": 2,
       "version_minor": 0
      },
      "text/plain": [
       "Val:   0%|          | 0/333 [00:00<?, ?it/s]"
      ]
     },
     "metadata": {},
     "output_type": "display_data"
    },
    {
     "name": "stdout",
     "output_type": "stream",
     "text": [
      "eval_loss: 2.2297165784033925\n"
     ]
    },
    {
     "data": {
      "application/vnd.jupyter.widget-view+json": {
       "model_id": "151162d95bc8491cbdb232209e936965",
       "version_major": 2,
       "version_minor": 0
      },
      "text/plain": [
       "Epoch 39:   0%|          | 0/1329 [00:00<?, ?it/s]"
      ]
     },
     "metadata": {},
     "output_type": "display_data"
    },
    {
     "data": {
      "application/vnd.jupyter.widget-view+json": {
       "model_id": "ad448fddadf345b78eee35f938e1e4ad",
       "version_major": 2,
       "version_minor": 0
      },
      "text/plain": [
       "Val:   0%|          | 0/333 [00:00<?, ?it/s]"
      ]
     },
     "metadata": {},
     "output_type": "display_data"
    },
    {
     "name": "stdout",
     "output_type": "stream",
     "text": [
      "eval_loss: 2.236039873000022\n"
     ]
    }
   ],
   "source": [
    "optimizer = optim.Adam(model.parameters(), lr=0.05)\n",
    "scheduler = optim.lr_scheduler.ReduceLROnPlateau(optimizer, patience=3, factor=0.25)\n",
    "\n",
    "train(\n",
    "    model,\n",
    "    optimizer,\n",
    "    scheduler,\n",
    "    loss_fn,\n",
    "    train_loader=train_loader,\n",
    "    val_loader=val_loader,\n",
    "    device=device,\n",
    "    epochs=40\n",
    ")"
   ]
  },
  {
   "cell_type": "code",
   "execution_count": 70,
   "id": "8fabda2c-679c-4a03-b337-280ebad0a61f",
   "metadata": {
    "execution": {
     "iopub.execute_input": "2023-11-28T16:16:41.702126Z",
     "iopub.status.busy": "2023-11-28T16:16:41.700625Z",
     "iopub.status.idle": "2023-11-28T16:16:41.848508Z",
     "shell.execute_reply": "2023-11-28T16:16:41.846265Z",
     "shell.execute_reply.started": "2023-11-28T16:16:41.702126Z"
    }
   },
   "outputs": [
    {
     "data": {
      "text/plain": [
       "<All keys matched successfully>"
      ]
     },
     "execution_count": 70,
     "metadata": {},
     "output_type": "execute_result"
    }
   ],
   "source": [
    "model = EvalConvMetaModel()\n",
    "ckpt = torch.load(\"Conv5-Final.pt\")\n",
    "model.load_state_dict(ckpt)"
   ]
  },
  {
   "cell_type": "code",
   "execution_count": 71,
   "id": "5cfeaf9e-80a1-4faf-ab23-c1d168351c4a",
   "metadata": {
    "execution": {
     "iopub.execute_input": "2023-11-28T16:16:43.620937Z",
     "iopub.status.busy": "2023-11-28T16:16:43.620187Z",
     "iopub.status.idle": "2023-11-28T16:16:44.049344Z",
     "shell.execute_reply": "2023-11-28T16:16:44.047860Z",
     "shell.execute_reply.started": "2023-11-28T16:16:43.620937Z"
    }
   },
   "outputs": [
    {
     "data": {
      "text/html": [
       "<div>\n",
       "<style scoped>\n",
       "    .dataframe tbody tr th:only-of-type {\n",
       "        vertical-align: middle;\n",
       "    }\n",
       "\n",
       "    .dataframe tbody tr th {\n",
       "        vertical-align: top;\n",
       "    }\n",
       "\n",
       "    .dataframe thead th {\n",
       "        text-align: right;\n",
       "    }\n",
       "</style>\n",
       "<table border=\"1\" class=\"dataframe\">\n",
       "  <thead>\n",
       "    <tr style=\"text-align: right;\">\n",
       "      <th></th>\n",
       "      <th>id</th>\n",
       "      <th>fen</th>\n",
       "      <th>binary</th>\n",
       "      <th>eval</th>\n",
       "    </tr>\n",
       "  </thead>\n",
       "  <tbody>\n",
       "    <tr>\n",
       "      <th>0</th>\n",
       "      <td>890001</td>\n",
       "      <td>2q4r/4n1pp/pQn1N1k1/3pPpN1/P1pP1P2/2P5/6PP/1R4...</td>\n",
       "      <td>b'\\x02\\x00\\x00\\x00\\x00\\x00\\x00\\x00\\x00\\x00\\x00...</td>\n",
       "      <td>6.58</td>\n",
       "    </tr>\n",
       "    <tr>\n",
       "      <th>1</th>\n",
       "      <td>890002</td>\n",
       "      <td>2q4r/4n1pp/pQn1N1k1/3pPpN1/P1pP1P1P/2P5/6P1/1R...</td>\n",
       "      <td>b'\\x02\\x00\\x00\\x00\\x00\\x00\\x00\\x00\\x00\\x00\\x00...</td>\n",
       "      <td>3.67</td>\n",
       "    </tr>\n",
       "    <tr>\n",
       "      <th>2</th>\n",
       "      <td>890003</td>\n",
       "      <td>2q4r/4n1p1/pQn1N1kp/3pPpN1/P1pP1P1P/2P5/6P1/1R...</td>\n",
       "      <td>b'\\x02\\x00\\x00\\x00\\x00\\x00\\x00\\x00\\x00\\x00\\x00...</td>\n",
       "      <td>3.87</td>\n",
       "    </tr>\n",
       "    <tr>\n",
       "      <th>3</th>\n",
       "      <td>890004</td>\n",
       "      <td>2q4r/4n1p1/pQn1N1kp/3pPpNP/P1pP1P2/2P5/6P1/1R4...</td>\n",
       "      <td>b'\\x02\\x00\\x00\\x00\\x00\\x00\\x00\\x00\\x00\\x00\\x00...</td>\n",
       "      <td>4.22</td>\n",
       "    </tr>\n",
       "    <tr>\n",
       "      <th>4</th>\n",
       "      <td>890005</td>\n",
       "      <td>2q4r/4n1p1/pQn1N2p/3pPpNk/P1pP1P2/2P5/6P1/1R4K...</td>\n",
       "      <td>b'\\x02\\x00\\x00\\x00\\x00\\x00\\x00\\x00\\x00\\x00\\x00...</td>\n",
       "      <td>3.78</td>\n",
       "    </tr>\n",
       "    <tr>\n",
       "      <th>5</th>\n",
       "      <td>890006</td>\n",
       "      <td>2q4r/4nNp1/pQn1N2p/3pPp1k/P1pP1P2/2P5/6P1/1R4K...</td>\n",
       "      <td>b'\\x02\\x00\\x00\\x00\\x00\\x00\\x00\\x00\\x00\\x00\\x00...</td>\n",
       "      <td>3.11</td>\n",
       "    </tr>\n",
       "    <tr>\n",
       "      <th>6</th>\n",
       "      <td>890007</td>\n",
       "      <td>2q3r1/4nNp1/pQn1N2p/3pPp1k/P1pP1P2/2P5/6P1/1R4...</td>\n",
       "      <td>b'\\x02\\x00\\x00\\x00\\x00\\x00\\x00\\x00\\x00\\x00\\x00...</td>\n",
       "      <td>4.52</td>\n",
       "    </tr>\n",
       "    <tr>\n",
       "      <th>7</th>\n",
       "      <td>890008</td>\n",
       "      <td>2q3r1/4nNp1/pQn1N2p/3pPp1k/P1pP1P2/2P5/5KP1/1R...</td>\n",
       "      <td>b'\\x00\\x04\\x00\\x00\\x00\\x00\\x00\\x00\\x00\\x00\\x00...</td>\n",
       "      <td>-5.56</td>\n",
       "    </tr>\n",
       "    <tr>\n",
       "      <th>8</th>\n",
       "      <td>890009</td>\n",
       "      <td>6r1/4nNp1/pQn1q2p/3pPp1k/P1pP1P2/2P5/5KP1/1R6 ...</td>\n",
       "      <td>b'\\x00\\x04\\x00\\x00\\x00\\x00\\x00\\x00\\x00\\x00\\x00...</td>\n",
       "      <td>-5.40</td>\n",
       "    </tr>\n",
       "    <tr>\n",
       "      <th>9</th>\n",
       "      <td>890010</td>\n",
       "      <td>6r1/4nNp1/pQn1q2p/3pPp1k/P1pP1P2/2P5/5KP1/7R b...</td>\n",
       "      <td>b'\\x00\\x04\\x00\\x00\\x00\\x00\\x00\\x00\\x00\\x00\\x00...</td>\n",
       "      <td>-7.46</td>\n",
       "    </tr>\n",
       "    <tr>\n",
       "      <th>10</th>\n",
       "      <td>890011</td>\n",
       "      <td>6r1/4nNp1/pQn1q1kp/3pPp2/P1pP1P2/2P5/5KP1/7R w...</td>\n",
       "      <td>b'\\x00\\x04\\x00\\x00\\x00\\x00\\x00\\x00\\x00\\x00\\x00...</td>\n",
       "      <td>-7.48</td>\n",
       "    </tr>\n",
       "    <tr>\n",
       "      <th>11</th>\n",
       "      <td>890012</td>\n",
       "      <td>rnbqk1nr/pp3ppp/2pb4/3p4/3P4/2N2N2/PPP1BPPP/R1...</td>\n",
       "      <td>b'\\x08\\x00\\x00\\x00\\x00\\x00\\x00\\x00\\x10\\x00\\x00...</td>\n",
       "      <td>-0.28</td>\n",
       "    </tr>\n",
       "    <tr>\n",
       "      <th>12</th>\n",
       "      <td>890013</td>\n",
       "      <td>rnbqk2r/pp2nppp/2pb4/3p4/3P4/2N2N2/PPP1BPPP/R1...</td>\n",
       "      <td>b'\\x08\\x00\\x00\\x00\\x00\\x00\\x00\\x00\\x10\\x00\\x00...</td>\n",
       "      <td>-0.30</td>\n",
       "    </tr>\n",
       "    <tr>\n",
       "      <th>13</th>\n",
       "      <td>890014</td>\n",
       "      <td>rnbqk2r/pp2nppp/2pb4/3p4/3P4/2N2N2/PPP1BPPP/R1...</td>\n",
       "      <td>b'\\x02\\x00\\x00\\x00\\x00\\x00\\x00\\x00\\x10\\x00\\x00...</td>\n",
       "      <td>-0.39</td>\n",
       "    </tr>\n",
       "    <tr>\n",
       "      <th>14</th>\n",
       "      <td>890015</td>\n",
       "      <td>rnbq1rk1/pp2nppp/2pb4/3p4/3P4/2N2N2/PPP1BPPP/R...</td>\n",
       "      <td>b'\\x02\\x00\\x00\\x00\\x00\\x00\\x00\\x00\\x10\\x00\\x00...</td>\n",
       "      <td>-0.36</td>\n",
       "    </tr>\n",
       "    <tr>\n",
       "      <th>15</th>\n",
       "      <td>890016</td>\n",
       "      <td>rnbq1rk1/pp2nppp/2pb4/3p4/3P4/2N1BN2/PPP1BPPP/...</td>\n",
       "      <td>b'\\x02\\x00\\x00\\x00\\x00\\x00\\x00\\x00\\x10\\x00\\x00...</td>\n",
       "      <td>-0.55</td>\n",
       "    </tr>\n",
       "    <tr>\n",
       "      <th>16</th>\n",
       "      <td>890017</td>\n",
       "      <td>rn1q1rk1/pp2nppp/2pb4/3p1b2/3P4/2N1BN2/PPP1BPP...</td>\n",
       "      <td>b'\\x02\\x00\\x00\\x00\\x00\\x00\\x00\\x00\\x10\\x00\\x00...</td>\n",
       "      <td>-0.43</td>\n",
       "    </tr>\n",
       "    <tr>\n",
       "      <th>17</th>\n",
       "      <td>890018</td>\n",
       "      <td>rn1q1rk1/pp2nppp/2pb4/3p1b2/3P4/2N1BN2/PPPQBPP...</td>\n",
       "      <td>b'\\x02\\x00\\x00\\x00\\x00\\x00\\x00\\x00\\x00\\x10\\x00...</td>\n",
       "      <td>-0.59</td>\n",
       "    </tr>\n",
       "    <tr>\n",
       "      <th>18</th>\n",
       "      <td>890019</td>\n",
       "      <td>r2q1rk1/pp1nnppp/2pb4/3p1b2/3P4/2N1BN2/PPPQBPP...</td>\n",
       "      <td>b'\\x02\\x00\\x00\\x00\\x00\\x00\\x00\\x00\\x00\\x10\\x00...</td>\n",
       "      <td>-0.50</td>\n",
       "    </tr>\n",
       "    <tr>\n",
       "      <th>19</th>\n",
       "      <td>890020</td>\n",
       "      <td>r2q1rk1/pp1nnppp/2pb4/3p1b2/3P3N/2N1B3/PPPQBPP...</td>\n",
       "      <td>b'\\x02\\x00\\x00\\x00\\x00\\x00\\x00\\x00\\x00\\x10\\x00...</td>\n",
       "      <td>-0.68</td>\n",
       "    </tr>\n",
       "  </tbody>\n",
       "</table>\n",
       "</div>"
      ],
      "text/plain": [
       "        id                                                fen  \\\n",
       "0   890001  2q4r/4n1pp/pQn1N1k1/3pPpN1/P1pP1P2/2P5/6PP/1R4...   \n",
       "1   890002  2q4r/4n1pp/pQn1N1k1/3pPpN1/P1pP1P1P/2P5/6P1/1R...   \n",
       "2   890003  2q4r/4n1p1/pQn1N1kp/3pPpN1/P1pP1P1P/2P5/6P1/1R...   \n",
       "3   890004  2q4r/4n1p1/pQn1N1kp/3pPpNP/P1pP1P2/2P5/6P1/1R4...   \n",
       "4   890005  2q4r/4n1p1/pQn1N2p/3pPpNk/P1pP1P2/2P5/6P1/1R4K...   \n",
       "5   890006  2q4r/4nNp1/pQn1N2p/3pPp1k/P1pP1P2/2P5/6P1/1R4K...   \n",
       "6   890007  2q3r1/4nNp1/pQn1N2p/3pPp1k/P1pP1P2/2P5/6P1/1R4...   \n",
       "7   890008  2q3r1/4nNp1/pQn1N2p/3pPp1k/P1pP1P2/2P5/5KP1/1R...   \n",
       "8   890009  6r1/4nNp1/pQn1q2p/3pPp1k/P1pP1P2/2P5/5KP1/1R6 ...   \n",
       "9   890010  6r1/4nNp1/pQn1q2p/3pPp1k/P1pP1P2/2P5/5KP1/7R b...   \n",
       "10  890011  6r1/4nNp1/pQn1q1kp/3pPp2/P1pP1P2/2P5/5KP1/7R w...   \n",
       "11  890012  rnbqk1nr/pp3ppp/2pb4/3p4/3P4/2N2N2/PPP1BPPP/R1...   \n",
       "12  890013  rnbqk2r/pp2nppp/2pb4/3p4/3P4/2N2N2/PPP1BPPP/R1...   \n",
       "13  890014  rnbqk2r/pp2nppp/2pb4/3p4/3P4/2N2N2/PPP1BPPP/R1...   \n",
       "14  890015  rnbq1rk1/pp2nppp/2pb4/3p4/3P4/2N2N2/PPP1BPPP/R...   \n",
       "15  890016  rnbq1rk1/pp2nppp/2pb4/3p4/3P4/2N1BN2/PPP1BPPP/...   \n",
       "16  890017  rn1q1rk1/pp2nppp/2pb4/3p1b2/3P4/2N1BN2/PPP1BPP...   \n",
       "17  890018  rn1q1rk1/pp2nppp/2pb4/3p1b2/3P4/2N1BN2/PPPQBPP...   \n",
       "18  890019  r2q1rk1/pp1nnppp/2pb4/3p1b2/3P4/2N1BN2/PPPQBPP...   \n",
       "19  890020  r2q1rk1/pp1nnppp/2pb4/3p1b2/3P3N/2N1B3/PPPQBPP...   \n",
       "\n",
       "                                               binary  eval  \n",
       "0   b'\\x02\\x00\\x00\\x00\\x00\\x00\\x00\\x00\\x00\\x00\\x00...  6.58  \n",
       "1   b'\\x02\\x00\\x00\\x00\\x00\\x00\\x00\\x00\\x00\\x00\\x00...  3.67  \n",
       "2   b'\\x02\\x00\\x00\\x00\\x00\\x00\\x00\\x00\\x00\\x00\\x00...  3.87  \n",
       "3   b'\\x02\\x00\\x00\\x00\\x00\\x00\\x00\\x00\\x00\\x00\\x00...  4.22  \n",
       "4   b'\\x02\\x00\\x00\\x00\\x00\\x00\\x00\\x00\\x00\\x00\\x00...  3.78  \n",
       "5   b'\\x02\\x00\\x00\\x00\\x00\\x00\\x00\\x00\\x00\\x00\\x00...  3.11  \n",
       "6   b'\\x02\\x00\\x00\\x00\\x00\\x00\\x00\\x00\\x00\\x00\\x00...  4.52  \n",
       "7   b'\\x00\\x04\\x00\\x00\\x00\\x00\\x00\\x00\\x00\\x00\\x00... -5.56  \n",
       "8   b'\\x00\\x04\\x00\\x00\\x00\\x00\\x00\\x00\\x00\\x00\\x00... -5.40  \n",
       "9   b'\\x00\\x04\\x00\\x00\\x00\\x00\\x00\\x00\\x00\\x00\\x00... -7.46  \n",
       "10  b'\\x00\\x04\\x00\\x00\\x00\\x00\\x00\\x00\\x00\\x00\\x00... -7.48  \n",
       "11  b'\\x08\\x00\\x00\\x00\\x00\\x00\\x00\\x00\\x10\\x00\\x00... -0.28  \n",
       "12  b'\\x08\\x00\\x00\\x00\\x00\\x00\\x00\\x00\\x10\\x00\\x00... -0.30  \n",
       "13  b'\\x02\\x00\\x00\\x00\\x00\\x00\\x00\\x00\\x10\\x00\\x00... -0.39  \n",
       "14  b'\\x02\\x00\\x00\\x00\\x00\\x00\\x00\\x00\\x10\\x00\\x00... -0.36  \n",
       "15  b'\\x02\\x00\\x00\\x00\\x00\\x00\\x00\\x00\\x10\\x00\\x00... -0.55  \n",
       "16  b'\\x02\\x00\\x00\\x00\\x00\\x00\\x00\\x00\\x10\\x00\\x00... -0.43  \n",
       "17  b'\\x02\\x00\\x00\\x00\\x00\\x00\\x00\\x00\\x00\\x10\\x00... -0.59  \n",
       "18  b'\\x02\\x00\\x00\\x00\\x00\\x00\\x00\\x00\\x00\\x10\\x00... -0.50  \n",
       "19  b'\\x02\\x00\\x00\\x00\\x00\\x00\\x00\\x00\\x00\\x10\\x00... -0.68  "
      ]
     },
     "execution_count": 71,
     "metadata": {},
     "output_type": "execute_result"
    }
   ],
   "source": [
    "import sqlite3\n",
    "import pandas as pd\n",
    "\n",
    "OFFSET = 890000\n",
    "ROWS_TO_READ = 20\n",
    "\n",
    "sql = sqlite3.connect('test.db')\n",
    "df = pd.read_sql_query(f'SELECT * FROM evaluations LIMIT {OFFSET}, {ROWS_TO_READ}', sql)\n",
    "\n",
    "df.tail(20)"
   ]
  },
  {
   "cell_type": "code",
   "execution_count": 78,
   "id": "ba00c12d-0004-42e1-8c78-aae1eaa8e350",
   "metadata": {
    "execution": {
     "iopub.execute_input": "2023-11-28T16:17:32.628348Z",
     "iopub.status.busy": "2023-11-28T16:17:32.626826Z",
     "iopub.status.idle": "2023-11-28T16:17:32.651252Z",
     "shell.execute_reply": "2023-11-28T16:17:32.647498Z",
     "shell.execute_reply.started": "2023-11-28T16:17:32.628348Z"
    }
   },
   "outputs": [
    {
     "name": "stdout",
     "output_type": "stream",
     "text": [
      "-0.40396976470947266\n"
     ]
    }
   ],
   "source": [
    "import numpy as np\n",
    "\n",
    "fen = df['fen'][15]\n",
    "\n",
    "data = vectorize(fen, table)\n",
    "data = torch.tensor(data, dtype=torch.float).permute(2, 0, 1).cpu()\n",
    "data = data[None, :]\n",
    "\n",
    "meta = extract_metadata(fen)\n",
    "meta = torch.tensor(meta, dtype=torch.float).cpu()\n",
    "meta = meta[None, :]\n",
    "\n",
    "model = model.cpu()\n",
    "\n",
    "with torch.no_grad():\n",
    "    model.eval()\n",
    "    res = model(data, meta).item()\n",
    "print(res)"
   ]
  }
 ],
 "metadata": {
  "kernelspec": {
   "display_name": "Python 3 (ipykernel)",
   "language": "python",
   "name": "python3"
  },
  "language_info": {
   "codemirror_mode": {
    "name": "ipython",
    "version": 3
   },
   "file_extension": ".py",
   "mimetype": "text/x-python",
   "name": "python",
   "nbconvert_exporter": "python",
   "pygments_lexer": "ipython3",
   "version": "3.11.0"
  }
 },
 "nbformat": 4,
 "nbformat_minor": 5
}
